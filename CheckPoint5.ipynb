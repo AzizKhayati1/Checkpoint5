{
 "cells": [
  {
   "cell_type": "code",
   "execution_count": null,
   "id": "7c03a8c6-de19-43ee-a2e9-7edf47d08025",
   "metadata": {},
   "outputs": [],
   "source": []
  },
  {
   "cell_type": "code",
   "execution_count": 59,
   "id": "4811ca94-77f4-4bda-9cba-0a890511bdd7",
   "metadata": {},
   "outputs": [
    {
     "name": "stdout",
     "output_type": "stream",
     "text": [
      "(1, 2, 3)\n"
     ]
    }
   ],
   "source": [
    "#CheckPoint5 \n",
    "class Point3D():\n",
    "    def __init__(self, x, y, z):\n",
    "        self.x = x\n",
    "        self.y = y\n",
    "        self.z = z\n",
    "    def __repr__(self):\n",
    "        return \"(%d, %d, %d)\" % (self.x, self.y, self.z) #The repr() function returns the string representation of the value passed to eval function by default\n",
    "        \n",
    "my_point = Point3D(1,2,3)\n",
    "\n",
    "print (my_point) "
   ]
  },
  {
   "cell_type": "code",
   "execution_count": 34,
   "id": "3e005946-cadd-4b5f-8dac-7e8cd8c16645",
   "metadata": {},
   "outputs": [
    {
     "name": "stdout",
     "output_type": "stream",
     "text": [
      "12\n",
      "14\n"
     ]
    }
   ],
   "source": [
    "class Rectangle():\n",
    "    def __init__(self, l, w):\n",
    "        self.length = l\n",
    "        self.width  = w\n",
    "\n",
    "    def rectangle_area(self):\n",
    "        return self.length*self.width\n",
    "    def rectangle_perimeter(self) :\n",
    "        return (self.length+self.width)*2 \n",
    "    \n",
    "    \n",
    "\n",
    "myRectangle = Rectangle(3, 4)\n",
    "print(myRectangle.rectangle_area())\n",
    "print(myRectangle.rectangle_perimeter()) #done "
   ]
  },
  {
   "cell_type": "code",
   "execution_count": 58,
   "id": "84ce4536-107f-4eab-8cf5-832cb50493e3",
   "metadata": {},
   "outputs": [
    {
     "name": "stdout",
     "output_type": "stream",
     "text": [
      "28.274333882308138\n",
      "18.84955592153876\n",
      "the point: ( 1 1 ) does not belong to the circle \n"
     ]
    }
   ],
   "source": [
    "from math import pi \n",
    "class circle () : \n",
    "    def __init__(self,a,b,r) :\n",
    "        self.centerx = a\n",
    "        self.centery = b\n",
    "        self.radius = r \n",
    "    \n",
    "    def circle_area(self) :\n",
    "        return (self.radius**2)* pi \n",
    "    \n",
    "    def circle_perimter(self) : \n",
    "        return (self.radius*2* pi) \n",
    "    \n",
    "    def Equation (self, x, y):\n",
    "        return (x-self.centerx)**2 + (y-self.centery)**2 - self.radius**2 \n",
    "    q\n",
    "    def isinside (self, x, y):\n",
    "        if (self.Equation (x, y) == 0):\n",
    "            print (\"the point: (\", x, y, \") belongs to the circle \")\n",
    "        else:\n",
    "            print (\"the point: (\", x, y, \") does not belong to the circle \")\n",
    "C = circle (1,2,3) \n",
    "print(C.circle_area())\n",
    "print(C.circle_perimter())\n",
    "C.isinside(1,1)\n",
    "    \n",
    "        "
   ]
  },
  {
   "cell_type": "code",
   "execution_count": 97,
   "id": "1beb94d9-3310-4c0f-b8bc-eabe9e46dc64",
   "metadata": {},
   "outputs": [
    {
     "name": "stdout",
     "output_type": "stream",
     "text": [
      "1200\n",
      "1000\n"
     ]
    }
   ],
   "source": [
    "class bank():\n",
    "    def __init__(self,initial_amount):\n",
    "        self.balance = initial_amount\n",
    "\n",
    "    def deposit(self, amount):\n",
    "        self.balance += amount\n",
    "\n",
    "    def withdraw(self, amount):\n",
    "        self.balance -= amount \n",
    "cash = bank(1000)\n",
    "cash.deposit(200)\n",
    "print(cash.balance)\n",
    "cash.withdraw(200)\n",
    "print(cash.balance)\n"
   ]
  },
  {
   "cell_type": "code",
   "execution_count": null,
   "id": "49bd1322-e145-4901-9789-998325dcd264",
   "metadata": {},
   "outputs": [],
   "source": []
  }
 ],
 "metadata": {
  "kernelspec": {
   "display_name": "Python 3",
   "language": "python",
   "name": "python3"
  },
  "language_info": {
   "codemirror_mode": {
    "name": "ipython",
    "version": 3
   },
   "file_extension": ".py",
   "mimetype": "text/x-python",
   "name": "python",
   "nbconvert_exporter": "python",
   "pygments_lexer": "ipython3",
   "version": "3.8.8"
  }
 },
 "nbformat": 4,
 "nbformat_minor": 5
}
